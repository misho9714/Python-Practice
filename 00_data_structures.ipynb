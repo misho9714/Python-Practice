{
 "cells": [
  {
   "cell_type": "code",
   "execution_count": 1,
   "id": "75d76091",
   "metadata": {},
   "outputs": [
    {
     "name": "stdout",
     "output_type": "stream",
     "text": [
      "0\n",
      "1\n",
      "2\n",
      "3\n",
      "4\n"
     ]
    }
   ],
   "source": [
    "for i in range(5):\n",
    "    print (i)"
   ]
  },
  {
   "cell_type": "code",
   "execution_count": 2,
   "id": "1422ac62",
   "metadata": {},
   "outputs": [
    {
     "name": "stdout",
     "output_type": "stream",
     "text": [
      "5\n",
      "6\n",
      "7\n",
      "8\n",
      "9\n"
     ]
    }
   ],
   "source": [
    "for i in range(5, 10):\n",
    "    print (i)"
   ]
  },
  {
   "cell_type": "code",
   "execution_count": 3,
   "id": "b9e20903",
   "metadata": {},
   "outputs": [
    {
     "name": "stdout",
     "output_type": "stream",
     "text": [
      "5\n",
      "7\n",
      "9\n"
     ]
    }
   ],
   "source": [
    "for i in range(5, 10, 2):\n",
    "    print (i)"
   ]
  },
  {
   "cell_type": "code",
   "execution_count": 4,
   "id": "b2b50689",
   "metadata": {},
   "outputs": [],
   "source": [
    "for i in range(10, 5):\n",
    "    print (i)"
   ]
  },
  {
   "cell_type": "code",
   "execution_count": 9,
   "id": "cdc0d1e8",
   "metadata": {},
   "outputs": [
    {
     "name": "stdout",
     "output_type": "stream",
     "text": [
      "10\n",
      "9\n",
      "8\n",
      "7\n",
      "6\n"
     ]
    }
   ],
   "source": [
    "for i in range(10, 5, -1):\n",
    "    print (i)"
   ]
  },
  {
   "cell_type": "code",
   "execution_count": 11,
   "id": "c339f755",
   "metadata": {},
   "outputs": [
    {
     "name": "stdout",
     "output_type": "stream",
     "text": [
      "0.5\n"
     ]
    }
   ],
   "source": [
    "x = 1\n",
    "print(x/2)"
   ]
  },
  {
   "cell_type": "code",
   "execution_count": 17,
   "id": "2a17786d",
   "metadata": {},
   "outputs": [
    {
     "name": "stdout",
     "output_type": "stream",
     "text": [
      "[1, 3, 8, 10, 5]\n",
      "[1, 3, 8, 10]\n"
     ]
    }
   ],
   "source": [
    "A = [1, 3, 8, 10, 5]\n",
    "B = A.copy()\n",
    "B.pop()\n",
    "print(A)\n",
    "print(B)"
   ]
  },
  {
   "cell_type": "code",
   "execution_count": 19,
   "id": "a65c7712",
   "metadata": {},
   "outputs": [],
   "source": [
    "class Solution:\n",
    "    # @param A : list of integers\n",
    "    # @return an integer\n",
    "    def solve(self, A):\n",
    "        if len(A) == 1:\n",
    "            return 0\n",
    "        B = A.copy()\n",
    "        C = A.copy()\n",
    "        B.pop()\n",
    "        C.pop()\n",
    "        C.pop()\n",
    "        return min(solve(self, B) + 1, solve(self, C) + 2)"
   ]
  },
  {
   "cell_type": "code",
   "execution_count": null,
   "id": "c1970478",
   "metadata": {},
   "outputs": [],
   "source": [
    "class Solution:\n",
    "    # @param A : list of integers\n",
    "    # @return an integer\n",
    "    def solve(self, A):        \n",
    "        if len(A) == 1:\n",
    "            return A[0]\n",
    "        if len(A) == 2:\n",
    "            return (A[1] + A[0])\n",
    "        B = A.copy()\n",
    "        C = A.copy()\n",
    "        B.pop()\n",
    "        C.pop()\n",
    "        C.pop()\n",
    "        return min(self.solve(B) + A[len(A) - 1], self.solve(C) + A[len(A) - 1])"
   ]
  },
  {
   "cell_type": "code",
   "execution_count": 29,
   "id": "151f28f0",
   "metadata": {},
   "outputs": [
    {
     "data": {
      "text/plain": [
       "9"
      ]
     },
     "execution_count": 29,
     "metadata": {},
     "output_type": "execute_result"
    }
   ],
   "source": [
    "Solution().solve([4, 1, 2, 1, 3])"
   ]
  },
  {
   "cell_type": "code",
   "execution_count": null,
   "id": "45059db4",
   "metadata": {},
   "outputs": [],
   "source": [
    "class Solution:\n",
    "    # @param A : list of integers\n",
    "    # @return an integer\n",
    "    \n",
    "    ans_list = [-1] * (10**5 + 11)\n",
    "    \n",
    "    def solve(self, A):\n",
    "        l = len(A)\n",
    "        if l == 1:\n",
    "            return A[0]\n",
    "        if l == 2:\n",
    "            return (A[1] + A[0])        \n",
    "        \n",
    "        if self.ans_list[l - 1] == -1:\n",
    "            B = self.solve(A[:-1])\n",
    "            self.ans_list[l - 1] = B\n",
    "        else:\n",
    "            B = self.ans_list[l - 1]\n",
    "            \n",
    "        if self.ans_list[l - 2] == -1:\n",
    "            C = self.solve(A[:-2])\n",
    "            self.ans_list[l - 2] = C\n",
    "        else:\n",
    "            C = self.ans_list[l - 2]\n",
    "            \n",
    "        return min(B + A[-1], C + A[-1])\n",
    "\n",
    "\n"
   ]
  },
  {
   "cell_type": "code",
   "execution_count": null,
   "id": "a8d59f7f",
   "metadata": {},
   "outputs": [
    {
     "data": {
      "text/plain": [
       "10"
      ]
     },
     "execution_count": 41,
     "metadata": {},
     "output_type": "execute_result"
    }
   ],
   "source": [
    "Solution().solve([4, 1, 2, 3, 4, 45])"
   ]
  }
 ],
 "metadata": {
  "kernelspec": {
   "display_name": "Python 3",
   "language": "python",
   "name": "python3"
  },
  "language_info": {
   "codemirror_mode": {
    "name": "ipython",
    "version": 3
   },
   "file_extension": ".py",
   "mimetype": "text/x-python",
   "name": "python",
   "nbconvert_exporter": "python",
   "pygments_lexer": "ipython3",
   "version": "3.11.9"
  }
 },
 "nbformat": 4,
 "nbformat_minor": 5
}
