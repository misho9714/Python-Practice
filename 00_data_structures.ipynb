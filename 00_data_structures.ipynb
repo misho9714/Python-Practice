{
 "cells": [
  {
   "cell_type": "code",
   "execution_count": 1,
   "id": "75d76091",
   "metadata": {},
   "outputs": [
    {
     "name": "stdout",
     "output_type": "stream",
     "text": [
      "0\n",
      "1\n",
      "2\n",
      "3\n",
      "4\n"
     ]
    }
   ],
   "source": [
    "for i in range(5):\n",
    "    print (i)"
   ]
  },
  {
   "cell_type": "code",
   "execution_count": 2,
   "id": "1422ac62",
   "metadata": {},
   "outputs": [
    {
     "name": "stdout",
     "output_type": "stream",
     "text": [
      "5\n",
      "6\n",
      "7\n",
      "8\n",
      "9\n"
     ]
    }
   ],
   "source": [
    "for i in range(5, 10):\n",
    "    print (i)"
   ]
  },
  {
   "cell_type": "code",
   "execution_count": 3,
   "id": "b9e20903",
   "metadata": {},
   "outputs": [
    {
     "name": "stdout",
     "output_type": "stream",
     "text": [
      "5\n",
      "7\n",
      "9\n"
     ]
    }
   ],
   "source": [
    "for i in range(5, 10, 2):\n",
    "    print (i)"
   ]
  },
  {
   "cell_type": "code",
   "execution_count": 4,
   "id": "b2b50689",
   "metadata": {},
   "outputs": [],
   "source": [
    "for i in range(10, 5):\n",
    "    print (i)"
   ]
  },
  {
   "cell_type": "code",
   "execution_count": 9,
   "id": "cdc0d1e8",
   "metadata": {},
   "outputs": [
    {
     "name": "stdout",
     "output_type": "stream",
     "text": [
      "10\n",
      "9\n",
      "8\n",
      "7\n",
      "6\n"
     ]
    }
   ],
   "source": [
    "for i in range(10, 5, -1):\n",
    "    print (i)"
   ]
  },
  {
   "cell_type": "code",
   "execution_count": 6,
   "id": "651d60cb",
   "metadata": {},
   "outputs": [
    {
     "data": {
      "text/plain": [
       "[2, 5]"
      ]
     },
     "execution_count": 6,
     "metadata": {},
     "output_type": "execute_result"
    }
   ],
   "source": [
    "x = [\n",
    "    [1, 2, 3],\n",
    "    [4, 5, 6]\n",
    "]\n",
    "\n",
    "# Select the second column from x\n",
    "second_column = [row[1] for row in x]\n",
    "second_column"
   ]
  },
  {
   "cell_type": "code",
   "execution_count": 61,
   "id": "835b676f",
   "metadata": {},
   "outputs": [
    {
     "name": "stdout",
     "output_type": "stream",
     "text": [
      "[[ 7  8  9]\n",
      " [12 13 14]]\n"
     ]
    },
    {
     "data": {
      "text/plain": [
       "array([[ 7,  8,  9],\n",
       "       [12, 13, 14]])"
      ]
     },
     "execution_count": 61,
     "metadata": {},
     "output_type": "execute_result"
    }
   ],
   "source": [
    "import numpy as np\n",
    "x = np.array([\n",
    "    [1,  2,  3,  4,  5],\n",
    "    [6,  7,  8,  9,  10,],\n",
    "    [11, 12, 13, 14, 15],\n",
    "    [16, 17, 18, 19, 20]\n",
    "])\n",
    "\n",
    "z = 2 * np.array([\n",
    "    [1,  2,  3,  4,  5],\n",
    "    [6,  7,  8,  9,  10,],\n",
    "    [11, 12, 13, 14, 15],\n",
    "    [16, 17, 18, 19, 20]\n",
    "])\n",
    "y = x[1:3, 1:4]\n",
    "print(y)\n",
    "y"
   ]
  },
  {
   "cell_type": "code",
   "execution_count": 62,
   "id": "f0091bcd",
   "metadata": {},
   "outputs": [
    {
     "data": {
      "text/plain": [
       "array([[ 2,  4,  6,  8, 10],\n",
       "       [12, 14, 16, 18, 20],\n",
       "       [22, 24, 26, 28, 30],\n",
       "       [32, 34, 36, 38, 40]])"
      ]
     },
     "execution_count": 62,
     "metadata": {},
     "output_type": "execute_result"
    }
   ],
   "source": [
    "x = 20 * x\n",
    "z"
   ]
  },
  {
   "cell_type": "code",
   "execution_count": 64,
   "id": "9929e20b",
   "metadata": {},
   "outputs": [],
   "source": [
    "a = input(\"input a number: \")"
   ]
  },
  {
   "cell_type": "code",
   "execution_count": null,
   "id": "bad4c358",
   "metadata": {},
   "outputs": [
    {
     "data": {
      "text/plain": [
       "[0, 2, 0, 2, 0, 2, 0, 2, 0, 2, 0, 2, 0, 2, 0, 2, 0, 2, 0, 2, 0, 2, 0, 2]"
      ]
     },
     "execution_count": 70,
     "metadata": {},
     "output_type": "execute_result"
    }
   ],
   "source": [
    "[0, ] * 3 * 4"
   ]
  },
  {
   "cell_type": "code",
   "execution_count": null,
   "id": "fc0898ac",
   "metadata": {},
   "outputs": [
    {
     "name": "stdout",
     "output_type": "stream",
     "text": [
      "[[3, 3, 3, 3, 3], [3, 2, 2, 2, 3], [3, 2, 1, 2, 3], [3, 2, 2, 2, 3], [3, 3, 3, 3, 3]]\n"
     ]
    },
    {
     "data": {
      "text/plain": [
       "[[3, 3, 3, 3, 3],\n",
       " [3, 2, 2, 2, 3],\n",
       " [3, 2, 1, 2, 3],\n",
       " [3, 2, 2, 2, 3],\n",
       " [3, 3, 3, 3, 3]]"
      ]
     },
     "execution_count": 83,
     "metadata": {},
     "output_type": "execute_result"
    }
   ],
   "source": [
    "\n",
    "def prettyPrint(A):\n",
    "    L = 2 * A - 1\n",
    "    matrix = [[0] * L for _ in range (L)]\n",
    "    for r in range(L):\n",
    "        for c in range(L):\n",
    "            matrix[r][c] = A - (min(r, L - r - 1, c, L - c - 1))\n",
    "                \n",
    "    print\n",
    "\n",
    "    return matrix\n",
    "\n",
    "prettyPrint(3)"
   ]
  },
  {
   "cell_type": "code",
   "execution_count": null,
   "id": "a83fbbcc",
   "metadata": {},
   "outputs": [
    {
     "ename": "ValueError",
     "evalue": "too many values to unpack (expected 2)",
     "output_type": "error",
     "traceback": [
      "\u001b[31m---------------------------------------------------------------------------\u001b[39m",
      "\u001b[31mValueError\u001b[39m                                Traceback (most recent call last)",
      "\u001b[36mCell\u001b[39m\u001b[36m \u001b[39m\u001b[32mIn[91]\u001b[39m\u001b[32m, line 3\u001b[39m\n\u001b[32m      1\u001b[39m a, b = \u001b[32m0\u001b[39m, \u001b[32m1\u001b[39m\n\u001b[32m      2\u001b[39m c = [\u001b[32m5\u001b[39m, \u001b[32m15\u001b[39m]\n\u001b[32m----> \u001b[39m\u001b[32m3\u001b[39m a, b = (a, b) + (c[\u001b[32m1\u001b[39m], c[\u001b[32m1\u001b[39m])\n",
      "\u001b[31mValueError\u001b[39m: too many values to unpack (expected 2)"
     ]
    }
   ],
   "source": [
    "a, b = 0, 1\n",
    "c = [5, 15]\n",
    "a, b = a, b + c[1], c[1]"
   ]
  },
  {
   "cell_type": "code",
   "execution_count": 95,
   "id": "fb156013",
   "metadata": {},
   "outputs": [
    {
     "name": "stdout",
     "output_type": "stream",
     "text": [
      "r =  0  c =  0  step_stat =  0\n",
      "r =  0  c =  1  step_stat =  0\n",
      "r =  0  c =  1  step_stat =  0\n",
      "r =  0  c =  2  step_stat =  0\n",
      "r =  0  c =  2  step_stat =  1\n",
      "r =  1  c =  2  step_stat =  1\n",
      "r =  1  c =  2  step_stat =  1\n",
      "r =  2  c =  2  step_stat =  1\n",
      "r =  2  c =  2  step_stat =  2\n",
      "r =  2  c =  1  step_stat =  2\n",
      "r =  2  c =  1  step_stat =  2\n",
      "r =  2  c =  0  step_stat =  2\n",
      "r =  2  c =  0  step_stat =  3\n",
      "r =  1  c =  0  step_stat =  3\n",
      "r =  1  c =  0  step_stat =  0\n",
      "r =  1  c =  1  step_stat =  0\n",
      "r =  1  c =  1  step_stat =  1\n",
      "r =  2  c =  1  step_stat =  1\n",
      "[1, 2, 3, 6, 9, 8, 7, 4, 5]\n"
     ]
    }
   ],
   "source": [
    "def spiralOrder(A):\n",
    "    step_list = [\n",
    "        [0, 1],\n",
    "        [1, 0],\n",
    "        [0, -1],\n",
    "        [-1, 0]\n",
    "    ]\n",
    "    step_stat = 0\n",
    "    \n",
    "    ans = []\n",
    "    \n",
    "    w = len(A[0])\n",
    "    h = len(A)\n",
    "    \n",
    "    B = [[0] * w for _ in range(h)]\n",
    "    \n",
    "    r = 0\n",
    "    c = 0\n",
    "    for _ in range(w * h):\n",
    "        ans.append(A[r][c])\n",
    "        B[r][c] = 1\n",
    "        next_step = step_list[step_stat]\n",
    "        if (\n",
    "            r + next_step[0] >= h \n",
    "            or r + next_step[0] < 0 \n",
    "            or c + next_step[1] >= w \n",
    "            or c + next_step[1] < 0 \n",
    "            or B[r + next_step[0]][c + next_step[1]] == 1\n",
    "        ):\n",
    "            step_stat = (step_stat + 1) % 4\n",
    "        \n",
    "        print(\"r = \", r, \" c = \", c, \" step_stat = \", step_stat)\n",
    "        r = r + step_list[step_stat][0]\n",
    "        c = c + step_list[step_stat][1]\n",
    "        print(\"r = \", r, \" c = \", c, \" step_stat = \", step_stat)\n",
    "        \n",
    "    return ans\n",
    "\n",
    "A = [\n",
    "    [ 1, 2, 3 ],\n",
    "    [ 4, 5, 6 ],\n",
    "    [ 7, 8, 9 ]\n",
    "]\n",
    "\n",
    "print(spiralOrder(A))"
   ]
  },
  {
   "cell_type": "code",
   "execution_count": 104,
   "id": "ad422df7",
   "metadata": {},
   "outputs": [
    {
     "name": "stdout",
     "output_type": "stream",
     "text": [
      "one\n"
     ]
    }
   ],
   "source": [
    "qwe = 1\n",
    "\n",
    "match qwe:\n",
    "    case 1:\n",
    "        print(\"one\")\n",
    "    case \"2\":\n",
    "        print(\"two\")\n",
    "    case 1:\n",
    "        print(\"three\")\n",
    "    case _:\n",
    "        print(\"other\")\n"
   ]
  },
  {
   "cell_type": "code",
   "execution_count": 110,
   "id": "d7306903",
   "metadata": {},
   "outputs": [
    {
     "name": "stdout",
     "output_type": "stream",
     "text": [
      "2\n"
     ]
    }
   ],
   "source": [
    "dictionary = {\n",
    "    \"one\": 1,\n",
    "    \"two\": 2,\n",
    "    \"three\": 3\n",
    "}\n",
    "\n",
    "print(dictionary[\"two\"])"
   ]
  },
  {
   "cell_type": "code",
   "execution_count": 2,
   "id": "4f342755",
   "metadata": {},
   "outputs": [
    {
     "name": "stdout",
     "output_type": "stream",
     "text": [
      "100\n",
      "101\n",
      "102\n",
      "103\n",
      "104\n"
     ]
    }
   ],
   "source": [
    "for x in range(5):\n",
    "    x += 100\n",
    "    print(x)"
   ]
  },
  {
   "cell_type": "code",
   "execution_count": null,
   "id": "8cec9c6f",
   "metadata": {},
   "outputs": [
    {
     "ename": "AttributeError",
     "evalue": "'list' object has no attribute 'len'",
     "output_type": "error",
     "traceback": [
      "\u001b[31m---------------------------------------------------------------------------\u001b[39m",
      "\u001b[31mAttributeError\u001b[39m                            Traceback (most recent call last)",
      "\u001b[36mCell\u001b[39m\u001b[36m \u001b[39m\u001b[32mIn[4]\u001b[39m\u001b[32m, line 4\u001b[39m\n\u001b[32m      1\u001b[39m x = [\u001b[32m1\u001b[39m, \u001b[32m2\u001b[39m, \u001b[32m3\u001b[39m, \u001b[32m4\u001b[39m, \u001b[32m5\u001b[39m]\n\u001b[32m      3\u001b[39m \u001b[38;5;28mlen\u001b[39m(x)\n\u001b[32m----> \u001b[39m\u001b[32m4\u001b[39m \u001b[43mx\u001b[49m\u001b[43m.\u001b[49m\u001b[43mlen\u001b[49m()\n",
      "\u001b[31mAttributeError\u001b[39m: 'list' object has no attribute 'len'"
     ]
    }
   ],
   "source": [
    "x = [1, 2, 3, 4, 5]\n",
    "\n",
    "len(x)"
   ]
  }
 ],
 "metadata": {
  "kernelspec": {
   "display_name": "Python 3",
   "language": "python",
   "name": "python3"
  },
  "language_info": {
   "codemirror_mode": {
    "name": "ipython",
    "version": 3
   },
   "file_extension": ".py",
   "mimetype": "text/x-python",
   "name": "python",
   "nbconvert_exporter": "python",
   "pygments_lexer": "ipython3",
   "version": "3.11.9"
  }
 },
 "nbformat": 4,
 "nbformat_minor": 5
}
