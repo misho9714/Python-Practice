{
  "cells": [
    {
      "cell_type": "code",
      "execution_count": null,
      "metadata": {
        "colab": {
          "base_uri": "https://localhost:8080/"
        },
        "id": "kDthYM-OI5Hq",
        "outputId": "f2c719eb-a6ac-4e6b-ab68-39521c60398b"
      },
      "outputs": [],
      "source": [
        "%pip install qiskit pylatexenc"
      ]
    },
    {
      "cell_type": "code",
      "execution_count": null,
      "metadata": {},
      "outputs": [],
      "source": [
        "from qiskit.circuit import QuantumCircuit, QuantumRegister, AncillaRegister, ClassicalRegister\n",
        "from qiskit.quantum_info import Statevector, Operator\n",
        "\n",
        "import numpy as np"
      ]
    },
    {
      "cell_type": "markdown",
      "metadata": {
        "id": "TX10jwsACKzR"
      },
      "source": [
        "# Quantum State preparation"
      ]
    },
    {
      "cell_type": "markdown",
      "metadata": {},
      "source": [
        "## $n = 2$"
      ]
    },
    {
      "cell_type": "markdown",
      "metadata": {
        "id": "DbGdn2EDCKzR"
      },
      "source": [
        "Let\n",
        "\\begin{equation}\n",
        "| \\Psi \\rangle  = a | 00 \\rangle + b | 10 \\rangle + c | 01 \\rangle + d | 11 \\rangle,\n",
        "\\end{equation}\n",
        "with $a, b, c, d > 0$.\n",
        "\n",
        "Then\n",
        "\\begin{equation}\n",
        "| \\Psi \\rangle = \\cos \\left( \\theta_0 / 2 \\right) \\left( \\cos \\left( \\theta_{10} / 2 \\right) | 0 \\rangle + \\sin \\left( \\theta_{10} / 2 \\right) | 1 \\rangle \\right) | 0 \\rangle + \\sin \\left( \\theta_0 / 2 \\right) \\left( \\cos \\left( \\theta_{11} / 2 \\right) | 0 \\rangle + \\sin \\left( \\theta_{11} / 2 \\right) | 1 \\rangle \\right) | 1 \\rangle,\n",
        "\\end{equation}\n",
        "where\n",
        "\\begin{align}\n",
        "    \\theta_0        &= 2 \\arccos \\left( \\sqrt{a^2 + b^2} \\right), \\\\\n",
        "    \\theta_{01}     &= 2 \\arccos \\left( \\tfrac{a}{\\sqrt{a^2 + b^2}} \\right), \\\\\n",
        "    \\theta_{11}     &= 2 \\arccos \\left( \\tfrac{c}{\\sqrt{c^2 + d^2}} \\right). \\\\\n",
        "\\end{align}\n"
      ]
    },
    {
      "cell_type": "markdown",
      "metadata": {
        "id": "QpU1qe7cCKzR"
      },
      "source": [
        "Now let\n",
        "\\begin{equation}\n",
        "| \\Psi \\rangle  = \\tfrac{1}{\\sqrt{30}} | 00 \\rangle + \\tfrac{2}{\\sqrt{30}} | 10 \\rangle + \\tfrac{3}{\\sqrt{30}} | 01 \\rangle + \\tfrac{4}{\\sqrt{30}} | 11 \\rangle.\n",
        "\\end{equation}"
      ]
    },
    {
      "cell_type": "code",
      "execution_count": null,
      "metadata": {
        "colab": {
          "base_uri": "https://localhost:8080/"
        },
        "id": "TfSTnjrlCKzR",
        "outputId": "02736f7e-4a96-43d2-e0be-60bec27a8ceb"
      },
      "outputs": [],
      "source": [
        "n = 2\n",
        "psi = (1 + np.arange(2**n)) / np.linalg.norm(1 + np.arange(2**n))\n",
        "psi"
      ]
    },
    {
      "cell_type": "markdown",
      "metadata": {},
      "source": [
        "### angles\n",
        "(in Qiskit's labelling the circuit will be \"upside-down\" compared to the circuit in class)"
      ]
    },
    {
      "cell_type": "code",
      "execution_count": null,
      "metadata": {},
      "outputs": [],
      "source": [
        "theta_0 = 2 * np.arccos(np.sqrt(np.sum(np.square(psi[:2]))))\n",
        "theta_10 = 2 * np.arccos(psi[0] / np.sqrt(np.sum(np.square(psi[:2]))))\n",
        "theta_11 = 2 * np.arccos(psi[2] / np.sqrt(np.sum(np.square(psi[2:]))))"
      ]
    },
    {
      "cell_type": "code",
      "execution_count": null,
      "metadata": {
        "colab": {
          "base_uri": "https://localhost:8080/",
          "height": 191
        },
        "id": "F-Ddo50bCKzR",
        "outputId": "64d20a06-a8ca-4454-f104-f99592ba8d00"
      },
      "outputs": [],
      "source": [
        "quantum_register = QuantumRegister(size=2, name=\"x\")\n",
        "\n",
        "qsp_circ = QuantumCircuit(quantum_register, name=\"Quantum State Preparation\")\n",
        "\n",
        "qsp_circ.ry(theta_0, quantum_register[1])\n",
        "\n",
        "qsp_circ.barrier()\n",
        "\n",
        "qsp_circ.x(quantum_register[1])\n",
        "qsp_circ.cry(theta_10, quantum_register[1], quantum_register[0])\n",
        "qsp_circ.x(quantum_register[1])\n",
        "\n",
        "qsp_circ.barrier()\n",
        "\n",
        "qsp_circ.cry(theta_11, quantum_register[1], quantum_register[0])\n",
        "\n",
        "qsp_circ.draw(output=\"mpl\")"
      ]
    },
    {
      "cell_type": "code",
      "execution_count": null,
      "metadata": {
        "id": "gtUeuWj3CKzR"
      },
      "outputs": [],
      "source": [
        "np.linalg.norm(Statevector(qsp_circ).data - psi)"
      ]
    },
    {
      "cell_type": "markdown",
      "metadata": {},
      "source": [
        "# $n = 3$"
      ]
    },
    {
      "cell_type": "code",
      "execution_count": null,
      "metadata": {},
      "outputs": [],
      "source": [
        "n = 3\n",
        "psi = (1 + np.arange(2**n)) / np.linalg.norm(1 + np.arange(2**n))\n",
        "psi, np.linalg.norm(psi)"
      ]
    },
    {
      "cell_type": "markdown",
      "metadata": {},
      "source": [
        "### rewrite $\\psi$ as above to get the angles!"
      ]
    },
    {
      "cell_type": "markdown",
      "metadata": {},
      "source": [
        "### angles"
      ]
    },
    {
      "cell_type": "code",
      "execution_count": null,
      "metadata": {
        "id": "UQkapmWqCKzR"
      },
      "outputs": [],
      "source": [
        "theta_0 = # angle for the first qubit\n",
        "\n",
        "theta_10 = # angles for the second qubit\n",
        "theta_11 = # angles for the second qubit\n",
        "\n",
        "theta_200 = # angles for the third qubit\n",
        "theta_210 = # angles for the third qubit\n",
        "theta_201 = # angles for the third qubit\n",
        "theta_211 = # angles for the third qubit"
      ]
    },
    {
      "cell_type": "markdown",
      "metadata": {},
      "source": [
        "### we will need 2-controlled $Y$-rotations, which are not directly in qiskit. instead we will make one!"
      ]
    },
    {
      "cell_type": "code",
      "execution_count": null,
      "metadata": {},
      "outputs": [],
      "source": [
        "from qiskit.circuit.library.standard_gates import RYGate"
      ]
    },
    {
      "cell_type": "code",
      "execution_count": null,
      "metadata": {},
      "outputs": [],
      "source": [
        "quantum_register = QuantumRegister(size=3, name=\"x\")\n",
        "\n",
        "qsp_circ = QuantumCircuit(quantum_register, name=\"Quantum State Preparation\")\n",
        "\n",
        "# fix the first qubit\n",
        "\n",
        "\n",
        "\n",
        "\n",
        "qsp_circ.barrier()\n",
        "\n",
        "# fix the second qubit\n",
        "\n",
        "\n",
        "\n",
        "qsp_circ.barrier()\n",
        "\n",
        "\n",
        "\n",
        "\n",
        "\n",
        "qsp_circ.barrier()\n",
        "\n",
        "# fix the third qubit\n",
        "\n",
        "\n",
        "\n",
        "qsp_circ.barrier()\n",
        "\n",
        "\n",
        "\n",
        "qsp_circ.barrier()\n",
        "\n",
        "\n",
        "\n",
        "qsp_circ.barrier()\n",
        "\n",
        "\n",
        "\n",
        "\n",
        "qsp_circ.draw(output=\"mpl\")"
      ]
    },
    {
      "cell_type": "code",
      "execution_count": null,
      "metadata": {},
      "outputs": [],
      "source": [
        "np.linalg.norm(Statevector(qsp_circ).data - psi)"
      ]
    },
    {
      "cell_type": "markdown",
      "metadata": {},
      "source": [
        "# Quantum Simulation"
      ]
    },
    {
      "cell_type": "markdown",
      "metadata": {},
      "source": [
        "## implementing $\\exp \\left( i \\tfrac{\\tau}{2} Z^{\\otimes k} \\right)$:\n",
        "\n",
        "Note: $Z^{\\otimes k} |x>_k = (- 1)^{h(x)} |x>_k$, where $h(x) = \\sum_{a = 0}^{k - 1} x_a$ is the <i>Hamming wieght</i> of $x \\in \\mathbb{F}_2^k$. Hence, $\\exp \\left( i \\tfrac{\\tau}{2} Z^{\\otimes k} \\right) |x>_k = \\exp \\left( i \\tfrac{\\tau}{2} (- 1)^{h(x)} \\right) |x>_k$.\n",
        "\n",
        "Furthermore, $h(x)$ is only relevant modulo 2 in the formula.\n",
        "\n",
        "Thus, if we can \"compute\" $h(x) \\mod 2$ on the one of the qubits, then an $R_Z (\\tau)$ gate on the qubit will create the correct phase and we just need to \"uncompute\" the Hammiing weight."
      ]
    },
    {
      "cell_type": "markdown",
      "metadata": {},
      "source": [
        "the following circuit implements $|y>_{k - 1} |z>_1 \\mapsto |y>_{k - 1} |h(y, z)>_1$"
      ]
    },
    {
      "cell_type": "code",
      "execution_count": null,
      "metadata": {},
      "outputs": [],
      "source": [
        "k = 4\n",
        "\n",
        "quantum_register = QuantumRegister(size=k, name=\"x\")\n",
        "\n",
        "circ = QuantumCircuit(quantum_register, name=\"Hamming weight computer\")\n",
        "\n",
        "for q in quantum_register[:-1]:\n",
        "    circ.cx(q, quantum_register[- 1])\n",
        "\n",
        "circ.draw(output=\"mpl\")"
      ]
    },
    {
      "cell_type": "code",
      "execution_count": null,
      "metadata": {},
      "outputs": [],
      "source": [
        "k = 4\n",
        "tau = np.pi / 3\n",
        "\n",
        "quantum_register = QuantumRegister(size=k, name=\"x\")\n",
        "\n",
        "circ = QuantumCircuit(quantum_register)\n",
        "\n",
        "for q in quantum_register[:-1]:\n",
        "    circ.cx(q, quantum_register[- 1])\n",
        "\n",
        "circ.rz(tau, quantum_register[-1])\n",
        "\n",
        "for q in quantum_register[:-1][::-1]:\n",
        "    circ.cx(q, quantum_register[- 1])\n",
        "\n",
        "circ.draw(output=\"mpl\")"
      ]
    },
    {
      "cell_type": "code",
      "execution_count": null,
      "metadata": {},
      "outputs": [],
      "source": [
        "O = Operator(circ).data\n",
        "\n",
        "O"
      ]
    },
    {
      "cell_type": "markdown",
      "metadata": {},
      "source": [
        "## verfiy"
      ]
    },
    {
      "cell_type": "code",
      "execution_count": null,
      "metadata": {},
      "outputs": [],
      "source": [
        "Z = np.diag([1, - 1])\n",
        "for _ in range(k - 1):\n",
        "    Z = np.kron(Z, np.diag([1, - 1]))\n",
        "\n",
        "Z"
      ]
    },
    {
      "cell_type": "markdown",
      "metadata": {},
      "source": [
        "### $Z$ is diagonal, so the matrix exponential is easy to compute"
      ]
    },
    {
      "cell_type": "code",
      "execution_count": null,
      "metadata": {},
      "outputs": [],
      "source": [
        "O_correct = np.diag(np.exp(- 1j * tau * np.diag(Z) / 2))\n",
        "\n",
        "O_correct"
      ]
    },
    {
      "cell_type": "code",
      "execution_count": null,
      "metadata": {},
      "outputs": [],
      "source": [
        "np.linalg.norm(O - O_correct)"
      ]
    },
    {
      "cell_type": "code",
      "execution_count": null,
      "metadata": {},
      "outputs": [],
      "source": []
    }
  ],
  "metadata": {
    "colab": {
      "provenance": []
    },
    "kernelspec": {
      "display_name": "akos",
      "language": "python",
      "name": "python3"
    },
    "language_info": {
      "codemirror_mode": {
        "name": "ipython",
        "version": 3
      },
      "file_extension": ".py",
      "mimetype": "text/x-python",
      "name": "python",
      "nbconvert_exporter": "python",
      "pygments_lexer": "ipython3",
      "version": "3.13.7"
    }
  },
  "nbformat": 4,
  "nbformat_minor": 0
}
