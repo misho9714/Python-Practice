{
  "cells": [
    {
      "cell_type": "code",
      "execution_count": null,
      "metadata": {
        "colab": {
          "base_uri": "https://localhost:8080/"
        },
        "id": "kDthYM-OI5Hq",
        "outputId": "71e8e4c9-c786-4fae-e694-c0f831e39f80"
      },
      "outputs": [],
      "source": [
        "# in case you are on google colab\n",
        "%pip install qiskit pylatexenc sympy"
      ]
    },
    {
      "cell_type": "code",
      "execution_count": null,
      "metadata": {
        "id": "zDh-yYLv8obE"
      },
      "outputs": [],
      "source": [
        "from qiskit.circuit import QuantumCircuit, QuantumRegister, AncillaRegister, Parameter\n",
        "from qiskit.quantum_info import Statevector, Operator\n",
        "import pylatexenc\n",
        "\n",
        "import matplotlib.pyplot as plt\n",
        "\n",
        "import numpy as np"
      ]
    },
    {
      "cell_type": "markdown",
      "metadata": {},
      "source": [
        "# Quantum Fourier Transform"
      ]
    },
    {
      "cell_type": "markdown",
      "metadata": {},
      "source": [
        "$n = 1$ case:"
      ]
    },
    {
      "cell_type": "code",
      "execution_count": null,
      "metadata": {},
      "outputs": [],
      "source": [
        "n = 1\n",
        "\n",
        "quantum_register = QuantumRegister(size=n, name=\"x\")\n",
        "\n",
        "QFT_circuit = QuantumCircuit(quantum_register, name=\"QFT circuit\")\n",
        "\n",
        "QFT_circuit.h(quantum_register)\n",
        "\n",
        "QFT_circuit.draw(output=\"mpl\")"
      ]
    },
    {
      "cell_type": "markdown",
      "metadata": {},
      "source": [
        "$n = 2$ case:"
      ]
    },
    {
      "cell_type": "code",
      "execution_count": null,
      "metadata": {},
      "outputs": [],
      "source": [
        "n = 2\n",
        "\n",
        "quantum_register = QuantumRegister(size=n, name=\"x\")\n",
        "\n",
        "QFT_circuit = QuantumCircuit(quantum_register, name=\"QFT circuit\")\n",
        "\n",
        "QFT_circuit.swap(quantum_register[0], quantum_register[1])\n",
        "\n",
        "QFT_circuit.h(quantum_register[0])\n",
        "QFT_circuit.cp(2 * np.pi / 2**2, quantum_register[0], quantum_register[1])\n",
        "QFT_circuit.h(quantum_register[1])\n",
        "\n",
        "QFT_circuit.draw(output=\"mpl\")"
      ]
    },
    {
      "cell_type": "code",
      "execution_count": null,
      "metadata": {},
      "outputs": [],
      "source": [
        "n = 3\n",
        "\n",
        "quantum_register = QuantumRegister(size=n, name=\"x\")\n",
        "\n",
        "QFT_circuit = QuantumCircuit(quantum_register, name=\"QFT circuit\")\n",
        "\n",
        "### write the rest of the code below\n",
        "\n",
        "\n",
        "\n",
        "###\n",
        "\n",
        "QFT_circuit.draw(output=\"mpl\")"
      ]
    },
    {
      "cell_type": "markdown",
      "metadata": {},
      "source": [
        "## Below is an implementation using only Hadamard, $CX$, $CP \\left( \\tfrac{\\pi}{2^a} \\right)$, and SWAP gates.\n",
        "\n",
        "(Can you rewrite to only use Hadamard, $R_Z \\left( \\tfrac{\\pi}{2^a} \\right)$, and $CX$ gates?)"
      ]
    },
    {
      "cell_type": "code",
      "execution_count": null,
      "metadata": {},
      "outputs": [],
      "source": [
        "def quantum_fourier_transform(n):\n",
        "    quantum_register = QuantumRegister(size=n, name=\"x\")\n",
        "    QFT_circuit = QuantumCircuit(quantum_register, name=f\"QFT\")\n",
        "\n",
        "    for q, p in zip(quantum_register[:n >> 1], reversed(quantum_register[n >> 1:])):\n",
        "        QFT_circuit.swap(q, p)\n",
        "\n",
        "    for i, q in enumerate(quantum_register, start=1):\n",
        "        QFT_circuit.h(q)\n",
        "        for j, p in enumerate(quantum_register[i:], start=1):\n",
        "            QFT_circuit.cp(np.pi / (1 << j), q, p)\n",
        "\n",
        "    return QFT_circuit\n",
        "\n",
        "def inverse_quantum_fourier_transform(n):\n",
        "    quantum_register = QuantumRegister(size=n, name=\"x\")\n",
        "    inverse_QFT_circuit = QuantumCircuit(quantum_register, name=f\"IQFT\")\n",
        "\n",
        "    for i, q in enumerate(reversed(quantum_register), start=1):\n",
        "        for j, p in enumerate(reversed(quantum_register[n + 1 - i:]), start=1):\n",
        "            inverse_QFT_circuit.cp(- np.pi / (1 << (i - j)), q, p)\n",
        "        inverse_QFT_circuit.h(q)\n",
        "\n",
        "    for q, p in zip(quantum_register[:n >> 1], reversed(quantum_register[n >> 1:])):\n",
        "        inverse_QFT_circuit.swap(q, p)\n",
        "\n",
        "    return inverse_QFT_circuit"
      ]
    },
    {
      "cell_type": "code",
      "execution_count": null,
      "metadata": {},
      "outputs": [],
      "source": [
        "quantum_fourier_transform(1).draw(output=\"mpl\")"
      ]
    },
    {
      "cell_type": "code",
      "execution_count": null,
      "metadata": {},
      "outputs": [],
      "source": [
        "quantum_fourier_transform(2).draw(output=\"mpl\")"
      ]
    },
    {
      "cell_type": "code",
      "execution_count": null,
      "metadata": {},
      "outputs": [],
      "source": [
        "quantum_fourier_transform(3).draw(output=\"mpl\")"
      ]
    },
    {
      "cell_type": "code",
      "execution_count": null,
      "metadata": {},
      "outputs": [],
      "source": [
        "inverse_quantum_fourier_transform(3).draw(output=\"mpl\")"
      ]
    },
    {
      "cell_type": "markdown",
      "metadata": {},
      "source": [
        "# Draper's adder circuit"
      ]
    },
    {
      "cell_type": "code",
      "execution_count": null,
      "metadata": {},
      "outputs": [],
      "source": [
        "def draper_adder(k, n):\n",
        "    quantum_register = QuantumRegister(size=n, name=\"x\")\n",
        "    draper_adder_circuit = QuantumCircuit(quantum_register, name=f\"{k} adder\")\n",
        "    \n",
        "    draper_adder_circuit.compose(quantum_fourier_transform(n), inplace=True)\n",
        "\n",
        "    draper_adder_circuit.barrier()\n",
        "    \n",
        "    # phaser part\n",
        "    for idx, q in enumerate(reversed(quantum_register)):\n",
        "        draper_adder_circuit.p(np.pi * k / (1 << idx), q)\n",
        "    \n",
        "    draper_adder_circuit.barrier()\n",
        "    \n",
        "    draper_adder_circuit.compose(inverse_quantum_fourier_transform(n), inplace=True)\n",
        "    \n",
        "    return draper_adder_circuit"
      ]
    },
    {
      "cell_type": "code",
      "execution_count": null,
      "metadata": {},
      "outputs": [],
      "source": [
        "k, n = 2, 3\n",
        "adder_circuit = draper_adder(k, n)"
      ]
    },
    {
      "cell_type": "code",
      "execution_count": null,
      "metadata": {},
      "outputs": [],
      "source": [
        "adder_circuit.draw(output=\"mpl\")"
      ]
    },
    {
      "cell_type": "code",
      "execution_count": null,
      "metadata": {},
      "outputs": [],
      "source": [
        "O = Operator(adder_circuit).data\n",
        "O"
      ]
    },
    {
      "cell_type": "markdown",
      "metadata": {},
      "source": [
        "### Let's get rid of the noise to see that 'O' is indeed the matrix of shift-by-two."
      ]
    },
    {
      "cell_type": "code",
      "execution_count": null,
      "metadata": {},
      "outputs": [],
      "source": [
        "np.round(np.real(O)).astype(int)"
      ]
    },
    {
      "cell_type": "markdown",
      "metadata": {
        "id": "xcOHBN2V8mZD"
      },
      "source": [
        "# Fejér states:\n",
        "\n",
        "For $k \\in \\mathbb{R}$: $| k \\rangle_F := \\tfrac{1}{2^n} \\sum\\limits_{x = 0}^{2^n - 1} \\exp \\left( \\tfrac{2 \\pi i}{2^n} \\left( k - x \\right) \\right) | x \\rangle = QFT^\\dagger \\circ P(k) \\circ H^{\\otimes n} | 0 \\rangle_n$."
      ]
    },
    {
      "cell_type": "code",
      "execution_count": null,
      "metadata": {
        "colab": {
          "base_uri": "https://localhost:8080/"
        },
        "id": "ov1tdkoz8mZE",
        "outputId": "1c320bc6-f977-4623-c5de-7a6d4a556773"
      },
      "outputs": [],
      "source": [
        "n = 7\n",
        "k = 2**(n - 1) + 0.5\n",
        "n, 2**n, k"
      ]
    },
    {
      "cell_type": "code",
      "execution_count": null,
      "metadata": {
        "id": "tzbtqMbD8mZF"
      },
      "outputs": [],
      "source": [
        "quantum_register = QuantumRegister(size=n, name=\"x\")\n",
        "\n",
        "fejer_circuit = QuantumCircuit(quantum_register, name=r\"circuit for | k \\rangle_F\")\n",
        "\n",
        "### your code comes here\n",
        "\n",
        "\n",
        "\n",
        "###\n",
        "\n",
        "fejer_circuit.draw(output=\"mpl\")"
      ]
    },
    {
      "cell_type": "code",
      "execution_count": null,
      "metadata": {
        "id": "rp3P9Aox_xPR"
      },
      "outputs": [],
      "source": [
        "fejer_distribution = Statevector(fejer_circuit).probabilities()"
      ]
    },
    {
      "cell_type": "code",
      "execution_count": null,
      "metadata": {
        "colab": {
          "base_uri": "https://localhost:8080/",
          "height": 448
        },
        "id": "wGS4IfFs8mZF",
        "outputId": "844d66e0-4fea-4240-9711-afd0b1e6a9d4"
      },
      "outputs": [],
      "source": [
        "plt.plot(np.arange(2**n), fejer_distribution)"
      ]
    },
    {
      "cell_type": "markdown",
      "metadata": {},
      "source": [
        "### the two most likely configurations"
      ]
    },
    {
      "cell_type": "code",
      "execution_count": null,
      "metadata": {
        "colab": {
          "base_uri": "https://localhost:8080/"
        },
        "id": "zVeJNN4-AGob",
        "outputId": "ad700197-979b-44e0-8811-71fe5c18b5f8"
      },
      "outputs": [],
      "source": [
        "k_low = int(np.floor(k))\n",
        "k_high = int(np.ceil(k))\n",
        "\n",
        "k_low, k_high"
      ]
    },
    {
      "cell_type": "code",
      "execution_count": null,
      "metadata": {
        "colab": {
          "base_uri": "https://localhost:8080/"
        },
        "id": "f3qjWhQS8mZG",
        "outputId": "8862a8b2-5d78-469a-a246-53b411b923b6"
      },
      "outputs": [],
      "source": [
        "fejer_distribution[k_low] + fejer_distribution[k_high], 8 / np.pi**2"
      ]
    },
    {
      "cell_type": "markdown",
      "metadata": {
        "id": "kNc2c1-V8mZG"
      },
      "source": [
        "# Quantum Phase Estimation\n",
        "\n",
        "Input:\n",
        "\n",
        "$CU$: Controlled Unitary\n",
        "\n",
        "$| \\Psi \\rangle$: eigenstate of $U$, that is, $U | \\Psi \\rangle = e^{i 2 \\pi \\theta} | \\Psi \\rangle$, with $\\theta \\in \\left[ 0, 1 \\right)$.\n",
        "\n",
        "$n$: binary precision\n",
        "\n",
        "Output:\n",
        "\n",
        "An esitmate, $\\theta^{(n)} \\in \\left[ 0, 1 \\right)$, such that, $\\left| \\theta - \\theta^{(n)} \\right| < \\tfrac{1}{2^{n + 1}}$, with high probability.\n",
        "\n",
        "Note: More precisely the output is the $n$-qubit Fejér state $| 2^n \\theta \\rangle_F$.\n"
      ]
    },
    {
      "cell_type": "markdown",
      "metadata": {
        "id": "SGFoOb878mZG"
      },
      "source": [
        "# Example: random phase gate"
      ]
    },
    {
      "cell_type": "code",
      "execution_count": null,
      "metadata": {
        "colab": {
          "base_uri": "https://localhost:8080/"
        },
        "id": "6AXLdaZA8mZG",
        "outputId": "06109c7d-bdca-4782-f371-d961f1525165"
      },
      "outputs": [],
      "source": [
        "theta = np.random.rand()\n",
        "theta"
      ]
    },
    {
      "cell_type": "markdown",
      "metadata": {
        "id": "yGJTfz_88mZH"
      },
      "source": [
        "Let $U = P \\left( \\pi \\theta \\right) = \\begin{pmatrix} 1 & 0 \\\\ 0 & e^{2 \\pi i \\theta} \\end{pmatrix}$."
      ]
    },
    {
      "cell_type": "markdown",
      "metadata": {
        "id": "RZNMVm4Q8mZH"
      },
      "source": [
        "Now $| \\Psi \\rangle = | 1 \\rangle$ is an eigenstate of $U$ with eigenvalue $e^{2 \\pi i \\theta}$."
      ]
    },
    {
      "cell_type": "markdown",
      "metadata": {
        "id": "nAoc0zPW8mZH"
      },
      "source": [
        "Let us pick $n$ for precision."
      ]
    },
    {
      "cell_type": "code",
      "execution_count": null,
      "metadata": {
        "colab": {
          "base_uri": "https://localhost:8080/"
        },
        "id": "BKqgD8CG8mZH",
        "outputId": "ec5cd0eb-afc4-41b4-97cf-a70edcfb5c9f"
      },
      "outputs": [],
      "source": [
        "n = 5\n",
        "\n",
        "# this computes the bits of the closest rational number with only n bits (why?)\n",
        "theta_bits = (int(np.rint(2**n * theta)) >> np.arange(n))%2\n",
        "\n",
        "theta, n, theta_bits"
      ]
    },
    {
      "cell_type": "code",
      "execution_count": null,
      "metadata": {
        "id": "ZjHcm1fsI9qq"
      },
      "outputs": [],
      "source": [
        "quantum_register = QuantumRegister(size=n, name=\"x\")\n",
        "ancilla_register = AncillaRegister(size=1, name=r\"\\psi\")\n",
        "\n",
        "qpe_circuit = QuantumCircuit(quantum_register, ancilla_register, name=\"QPE\")\n",
        "\n",
        "### your code comes here\n",
        "\n",
        "\n"
      ]
    },
    {
      "cell_type": "code",
      "execution_count": null,
      "metadata": {
        "colab": {
          "base_uri": "https://localhost:8080/",
          "height": 449
        },
        "id": "BsNJI4EN9bNX",
        "outputId": "6932c1cf-b158-462c-9b41-52a3dc245a94"
      },
      "outputs": [],
      "source": [
        "qpe_circuit.draw(output=\"mpl\")"
      ]
    },
    {
      "cell_type": "code",
      "execution_count": null,
      "metadata": {
        "colab": {
          "base_uri": "https://localhost:8080/",
          "height": 104
        },
        "id": "evpc9UuyBtE2",
        "outputId": "6efd5dc9-1c52-44a0-d568-6340771a895d"
      },
      "outputs": [],
      "source": [
        "output_state = Statevector(qpe_circuit)\n",
        "output_state.draw(\"latex\")"
      ]
    },
    {
      "cell_type": "markdown",
      "metadata": {
        "id": "Kq5HwoNWGAN8"
      },
      "source": [
        "### note: the first qubits is always $| 1 \\rangle$, as it should"
      ]
    },
    {
      "cell_type": "code",
      "execution_count": null,
      "metadata": {
        "colab": {
          "base_uri": "https://localhost:8080/"
        },
        "id": "obMq_1_Q8mZH",
        "outputId": "ae6d41dc-9aa8-46e9-8c5b-c0e705e56633"
      },
      "outputs": [],
      "source": [
        "output_distribution = (output_state.probabilities())[2**n:] # the first 2^n components can be ignored\n",
        "output_distribution.sum() # check"
      ]
    },
    {
      "cell_type": "code",
      "execution_count": null,
      "metadata": {
        "colab": {
          "base_uri": "https://localhost:8080/"
        },
        "id": "ABU3w9SR8mZH",
        "outputId": "70535fd8-4020-4bec-90cb-adeee1cbee4b"
      },
      "outputs": [],
      "source": [
        "output_distribution"
      ]
    },
    {
      "cell_type": "code",
      "execution_count": null,
      "metadata": {
        "colab": {
          "base_uri": "https://localhost:8080/",
          "height": 449
        },
        "id": "0sBx7sPt8mZI",
        "outputId": "8eabac68-4409-4e6b-c6c3-d51d82c67c93"
      },
      "outputs": [],
      "source": [
        "plt.plot(np.arange(2**n), output_distribution)"
      ]
    },
    {
      "cell_type": "code",
      "execution_count": null,
      "metadata": {
        "colab": {
          "base_uri": "https://localhost:8080/"
        },
        "id": "CVx7OVja8mZI",
        "outputId": "c18e5f72-c4b7-4032-e35d-b536be653a9f"
      },
      "outputs": [],
      "source": [
        "t = np.where(output_distribution >= 4 / np.pi**2)[0] # the most likely outcome\n",
        "t"
      ]
    },
    {
      "cell_type": "markdown",
      "metadata": {
        "id": "uKycdQkWGSS5"
      },
      "source": [
        "### the bits of the most likely outcome"
      ]
    },
    {
      "cell_type": "code",
      "execution_count": null,
      "metadata": {
        "colab": {
          "base_uri": "https://localhost:8080/"
        },
        "id": "Tq-mZO1U8mZI",
        "outputId": "384c8600-acbe-4b32-bf49-7faca10082da"
      },
      "outputs": [],
      "source": [
        "(t.reshape(-1,1) >> np.arange(n))%2"
      ]
    },
    {
      "cell_type": "code",
      "execution_count": null,
      "metadata": {
        "colab": {
          "base_uri": "https://localhost:8080/"
        },
        "id": "bl2SUXDi8mZI",
        "outputId": "9098742a-2fc1-4eee-ff22-2ee37c557a83"
      },
      "outputs": [],
      "source": [
        "theta_bits"
      ]
    },
    {
      "cell_type": "markdown",
      "metadata": {
        "id": "iM-Ck5k9GTxP"
      },
      "source": [
        "### the corresponding guess"
      ]
    },
    {
      "cell_type": "code",
      "execution_count": null,
      "metadata": {
        "colab": {
          "base_uri": "https://localhost:8080/"
        },
        "id": "KtcZwBQR8mZI",
        "outputId": "f22a68df-5c94-4e6c-8201-ab3489373a77"
      },
      "outputs": [],
      "source": [
        "theta_guess = t / 2**n\n",
        "theta, theta_guess"
      ]
    },
    {
      "cell_type": "code",
      "execution_count": null,
      "metadata": {
        "colab": {
          "base_uri": "https://localhost:8080/"
        },
        "id": "0AN6qEvd8mZI",
        "outputId": "d2f5ea06-01d5-4791-c315-e4fd8b1a246a"
      },
      "outputs": [],
      "source": [
        "# precision\n",
        "np.abs(theta_guess - theta), 1 / 2**(n+1)"
      ]
    },
    {
      "cell_type": "code",
      "execution_count": null,
      "metadata": {
        "colab": {
          "base_uri": "https://localhost:8080/"
        },
        "id": "dqZ7WEkh8mZI",
        "outputId": "fd25b15d-ba70-4459-98ca-74a6c23b95c2"
      },
      "outputs": [],
      "source": [
        "# expected theta\n",
        "E_theta = np.dot(output_distribution, np.arange(2**n)) / 2**n\n",
        "E_theta, theta"
      ]
    },
    {
      "cell_type": "code",
      "execution_count": null,
      "metadata": {
        "colab": {
          "base_uri": "https://localhost:8080/"
        },
        "id": "ymWBIxlv8mZI",
        "outputId": "9649a8cd-6d61-4175-e749-0dbe8cf0d153"
      },
      "outputs": [],
      "source": [
        "#  deviation\n",
        "sigma_theta = np.sqrt(np.dot(output_distribution, np.square(E_theta  - np.arange(2**n) / 2**n)))\n",
        "sigma_theta"
      ]
    },
    {
      "cell_type": "code",
      "execution_count": null,
      "metadata": {
        "id": "BWfiM1rQ8mZI"
      },
      "outputs": [],
      "source": []
    }
  ],
  "metadata": {
    "colab": {
      "provenance": []
    },
    "kernelspec": {
      "display_name": "akos",
      "language": "python",
      "name": "python3"
    },
    "language_info": {
      "codemirror_mode": {
        "name": "ipython",
        "version": 3
      },
      "file_extension": ".py",
      "mimetype": "text/x-python",
      "name": "python",
      "nbconvert_exporter": "python",
      "pygments_lexer": "ipython3",
      "version": "3.13.7"
    }
  },
  "nbformat": 4,
  "nbformat_minor": 0
}
