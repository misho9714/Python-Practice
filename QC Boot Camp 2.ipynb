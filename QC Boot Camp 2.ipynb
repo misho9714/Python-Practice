{
  "cells": [
    {
      "cell_type": "code",
      "execution_count": 2,
      "metadata": {
        "id": "kDthYM-OI5Hq"
      },
      "outputs": [],
      "source": [
        "from qiskit.circuit import QuantumCircuit, QuantumRegister, AncillaRegister\n",
        "from qiskit.quantum_info import Statevector, Operator\n",
        "\n",
        "import matplotlib.pyplot as plt\n",
        "\n",
        "\n",
        "import numpy as np"
      ]
    },
    {
      "cell_type": "markdown",
      "metadata": {},
      "source": [
        "# Grover's algorithm\n",
        "\n",
        "Input:\n",
        "\n",
        "$| s \\rangle$: initial state\n",
        "\n",
        "$| t \\rangle$: target state\n",
        "\n",
        "Adjust phases, so that\n",
        "\n",
        "$\\sqrt{\\lambda} := \\langle s | t\\rangle \\in \\mathbb{R}_+$.\n",
        "\n",
        "Then $\\lambda \\in (0, 1)$ is the probability of measuring $| t \\rangle$ in state $| s \\rangle$. Write\n",
        "\n",
        "$$\n",
        "| s^\\perp \\rangle = \\frac{| t \\rangle - \\sqrt{\\lambda} | s \\rangle}{\\sqrt{1 - \\lambda}}.\n",
        "$$\n",
        "\n",
        "Then $\\langle s^\\perp | s^\\perp \\rangle = 1$ and\n",
        "\n",
        "$$\n",
        "| t^\\perp \\rangle := \\sqrt{1 - \\lambda} | s \\rangle - \\sqrt{\\lambda} | s^\\perp \\rangle.\n",
        "$$\n",
        "\n",
        "Assume we have $S$ and $U$, such that\n",
        "\n",
        "$S | s \\rangle = - | s \\rangle$ and $S | s^\\perp \\rangle = | s^\\perp \\rangle$.\n",
        "\n",
        "$U | t \\rangle = - | t \\rangle$ and $U | t^\\perp \\rangle = | s^\\perp \\rangle$.\n",
        "\n",
        "Remark: Their actions on $\\mathrm{span} \\left( \\left\\{ | s \\rangle, | t \\rangle \\right\\} \\right)^\\perp$ is irrelevant.\n",
        "\n",
        "NOTE: $G := - S \\circ U$ is a rotation by $\\Theta := 2 \\arcsin \\left( \\sqrt{\\lambda} \\right)$ in the $\\mathrm{span} \\left( \\left\\{ | s \\rangle, | t \\rangle \\right\\} \\right)$ plane (positively oriented).\n",
        "\n",
        "Thm (Grover '96):\n",
        "\n",
        "\\begin{equation}\n",
        "    \\mathbb{P} (t | k) := \\left| \\langle t | G^k | s \\rangle \\right|^2 = \\sin^2 \\left( \\left(k + \\tfrac{1}{2} \\right) \\Theta \\right).\n",
        "\\end{equation}\n",
        "\n",
        "Maximum success probability at $K := \\lfloor \\tfrac{\\pi}{2 \\Theta} - \\tfrac{1}{2} \\rceil$."
      ]
    },
    {
      "cell_type": "markdown",
      "metadata": {},
      "source": [
        "## Example: Solving Pseudo-boolean equations."
      ]
    },
    {
      "cell_type": "markdown",
      "metadata": {},
      "source": [
        "Let $F: \\mathbb{F}_2^2 \\rightarrow \\mathbb{Z}$ be defined as\n",
        "\n",
        "\\begin{equation}\n",
        "    F(x_0, x_1) = 2 x_0 + x_1.\n",
        "\\end{equation}\n",
        "\n",
        "Our goal is the solve the equation\n",
        "\\begin{equation}\n",
        "    F(x_0, x_1) = 2,\n",
        "\\end{equation}\n",
        "\n",
        "using Grover's algorithm."
      ]
    },
    {
      "cell_type": "markdown",
      "metadata": {},
      "source": [
        "## Ingredients for the marker oracle"
      ]
    },
    {
      "cell_type": "markdown",
      "metadata": {},
      "source": [
        "Check that the following circuit achieves $| x \\rangle_2 \\rangle | 0 \\rangle_2 \\mapsto | x \\rangle_2 | F(x) \\rangle$.\n",
        "\n",
        "(More generally, it s action is given by $| x \\rangle_2 \\rangle | y \\rangle_2 \\mapsto | x \\rangle_2 | y + F(x) \\: \\mod \\: 2^2 \\rangle$)"
      ]
    },
    {
      "cell_type": "code",
      "execution_count": 8,
      "metadata": {
        "colab": {
          "base_uri": "https://localhost:8080/"
        },
        "id": "ZjHcm1fsI9qq",
        "outputId": "3ab38e52-7b2c-4983-9ad2-0c07f5999dff"
      },
      "outputs": [
        {
          "data": {
            "image/png": "[encoded data removed]",
            "text/plain": [
              "<Figure size 369.704x367.889 with 1 Axes>"
            ]
          },
          "execution_count": 8,
          "metadata": {},
          "output_type": "execute_result"
        }
      ],
      "source": [
        "quantum_register = QuantumRegister(size=2, name=\"x\")\n",
        "ancilla_register = AncillaRegister(size=2, name=\"y\")\n",
        "\n",
        "F_adder = QuantumCircuit(quantum_register, ancilla_register, name=\"F(x) adder\")\n",
        "\n",
        "F_adder.cx(quantum_register[0], ancilla_register[1])\n",
        "F_adder.ccx(quantum_register[1], ancilla_register[0], ancilla_register[1])\n",
        "F_adder.cx(quantum_register[1], ancilla_register[0])\n",
        "\n",
        "F_adder.draw(output=\"mpl\", style=\"bw\")"
      ]
    },
    {
      "cell_type": "markdown",
      "metadata": {},
      "source": [
        "Let us create the inverse to $F_{adder}$!"
      ]
    },
    {
      "cell_type": "code",
      "execution_count": null,
      "metadata": {},
      "outputs": [],
      "source": [
        "quantum_register = QuantumRegister(size=2, name=\"x\")\n",
        "ancilla_register = AncillaRegister(size=2, name=\"y\")\n",
        "\n",
        "F_subtractor = QuantumCircuit(quantum_register, ancilla_register, name=\"F(x) subtractor\")\n",
        "\n",
        "### write the rest of the code below\n",
        "\n",
        "\n",
        "\n",
        "###\n",
        "\n",
        "F_subtractor.draw(output=\"mpl\", style=\"bw\")"
      ]
    },
    {
      "cell_type": "markdown",
      "metadata": {},
      "source": [
        "### There is also a quicker way! 'F_subtractor' is the same as 'F_adder.inverse()'"
      ]
    },
    {
      "cell_type": "code",
      "execution_count": null,
      "metadata": {},
      "outputs": [],
      "source": [
        "F_adder.inverse().draw(output=\"mpl\", style=\"bw\")"
      ]
    },
    {
      "cell_type": "code",
      "execution_count": null,
      "metadata": {},
      "outputs": [],
      "source": [
        "A = F_adder.to_gate()\n",
        "Adg = F_subtractor.to_gate()"
      ]
    },
    {
      "cell_type": "markdown",
      "metadata": {},
      "source": [
        "Let $| t \\rangle = | x_0 x_1 \\rangle$ be such that $F(x_0, x_1) = 2$."
      ]
    },
    {
      "cell_type": "markdown",
      "metadata": {},
      "source": [
        "## Use $A$ and $A^\\dagger$ (without soliving for $(x_0, x_1) \\in \\mathbb{F}_2^2$) to create the marker oracle, $U$."
      ]
    },
    {
      "cell_type": "markdown",
      "metadata": {},
      "source": [
        "Note: 'circuit.compose(A, inplace=True)' applies the gate 'A' to 'circuit'"
      ]
    },
    {
      "cell_type": "code",
      "execution_count": null,
      "metadata": {},
      "outputs": [],
      "source": [
        "quantum_register = QuantumRegister(size=2, name=\"x\")\n",
        "ancilla_register = AncillaRegister(size=2, name=\"y\")\n",
        "\n",
        "marker_circuit = QuantumCircuit(quantum_register, ancilla_register, name=\"marker\")\n",
        "\n",
        "### write the rest of the code below\n",
        "\n",
        "\n",
        "\n",
        "###\n",
        "\n",
        "marker_circuit.draw(output=\"mpl\", style=\"bw\")"
      ]
    },
    {
      "cell_type": "markdown",
      "metadata": {},
      "source": [
        "Can you simplify the the above circuit?"
      ]
    },
    {
      "cell_type": "markdown",
      "metadata": {},
      "source": [
        "## State preparation.\n",
        "\n",
        "Let $| s \\rangle := \\tfrac{1}{2} \\left( | 00 \\rangle + | 10 \\rangle + | 01 \\rangle + | 11 \\rangle \\right)$.\n",
        "\n",
        "Let us create a circuit, $\\mathrm{Prep}$, that creates this state, that is\n",
        "\n",
        "$\\mathrm{Prep} | 0 \\rangle = | s \\rangle$."
      ]
    },
    {
      "cell_type": "code",
      "execution_count": null,
      "metadata": {},
      "outputs": [],
      "source": [
        "quantum_register = QuantumRegister(size=2, name=\"x\")\n",
        "\n",
        "state_preparation_circuit = QuantumCircuit(quantum_register, name=\"State preparation\")\n",
        "\n",
        "state_preparation_circuit.h(quantum_register)\n",
        "\n",
        "state_preparation_circuit.draw(output=\"mpl\", style=\"bw\")"
      ]
    },
    {
      "cell_type": "code",
      "execution_count": null,
      "metadata": {},
      "outputs": [],
      "source": [
        "Prep = state_preparation_circuit.to_gate()"
      ]
    },
    {
      "cell_type": "markdown",
      "metadata": {},
      "source": [
        "## Let's create the \"diffuser\" circtuit, $S$."
      ]
    },
    {
      "cell_type": "code",
      "execution_count": null,
      "metadata": {},
      "outputs": [],
      "source": [
        "quantum_register = QuantumRegister(size=2, name=\"x\")\n",
        "\n",
        "diffuser_circuit = QuantumCircuit(quantum_register, name=\"diffuser\")\n",
        "\n",
        "### write the rest of the code below\n",
        "\n",
        "\n",
        "\n",
        "###\n",
        "\n",
        "diffuser_circuit.draw(output=\"mpl\", style=\"bw\")"
      ]
    },
    {
      "cell_type": "code",
      "execution_count": null,
      "metadata": {},
      "outputs": [],
      "source": [
        "U = marker_circuit.to_gate()\n",
        "D = diffuser_circuit.to_gate()"
      ]
    },
    {
      "cell_type": "markdown",
      "metadata": {},
      "source": [
        "What is the number of iteration, $K$, that you will need?"
      ]
    },
    {
      "cell_type": "code",
      "execution_count": null,
      "metadata": {},
      "outputs": [],
      "source": [
        "n = 2\n",
        "N = 2**n\n",
        "\n",
        "### K = ? (write it as a function of N)"
      ]
    },
    {
      "cell_type": "markdown",
      "metadata": {},
      "source": [
        "# Full Grover circuit\n",
        "\n",
        "Construct the full Grover search circuit and check the probabilities as the end."
      ]
    },
    {
      "cell_type": "code",
      "execution_count": null,
      "metadata": {},
      "outputs": [],
      "source": [
        "quantum_register = QuantumRegister(size=2, name=\"x\")\n",
        "ancilla_register = AncillaRegister(size=2, name=\"y\")\n",
        "\n",
        "grover_circuit = QuantumCircuit(quantum_register, ancilla_register, name=\"Grover circuit\")\n",
        "\n",
        "### write the rest of the code below\n",
        "\n",
        "\n",
        "\n",
        "###\n",
        "\n",
        "grover_circuit.draw(output=\"mpl\", style=\"bw\")"
      ]
    },
    {
      "cell_type": "code",
      "execution_count": null,
      "metadata": {},
      "outputs": [],
      "source": [
        "psi = Statevector(grover_circuit)\n",
        "psi.probabilities()"
      ]
    },
    {
      "cell_type": "markdown",
      "metadata": {},
      "source": [
        "Numerical noise makes it seem messy, so let's simplify:"
      ]
    },
    {
      "cell_type": "code",
      "execution_count": null,
      "metadata": {},
      "outputs": [],
      "source": [
        "np.round(psi.probabilities(), 4)"
      ]
    },
    {
      "cell_type": "markdown",
      "metadata": {},
      "source": [
        "Maximum probability at $\\mathrm{index} = 1$, which is equivalent to $(x_0, x_1) = (1, 0)$, and $F (1, 0) = 2 \\cdot 1 + 0 = 2$."
      ]
    },
    {
      "cell_type": "markdown",
      "metadata": {},
      "source": [
        "# Change in the probability density over the iterations"
      ]
    },
    {
      "cell_type": "code",
      "execution_count": null,
      "metadata": {},
      "outputs": [],
      "source": [
        "n = 7\n",
        "N = 2**n\n",
        "K = int(np.rint(np.pi / (4 * np.arcsin(1 / np.sqrt(N))) - 1/2))\n",
        "Theta = 2 * np.arcsin(1/np.sqrt(N))\n",
        "K, Theta"
      ]
    },
    {
      "cell_type": "code",
      "execution_count": null,
      "metadata": {},
      "outputs": [],
      "source": [
        "iterations = np.arange(1, 4 * K + 1) # let us allow under-, and overcooking\n",
        "P_success_over_time = np.square(np.sin((iterations + 1/2) * Theta))"
      ]
    },
    {
      "cell_type": "code",
      "execution_count": null,
      "metadata": {},
      "outputs": [],
      "source": [
        "fig, axs = plt.subplots(nrows=1, ncols=2, sharey=False, figsize=(15, 5))\n",
        "\n",
        "axs[0].bar(iterations,\n",
        "           P_success_over_time,\n",
        "           width=0.5,\n",
        "           color=\"green\")\n",
        "axs[0].set(xlabel=f\"iteration\",\n",
        "           ylabel=f\"probability\")\n",
        "axs[0].axvline(x = K,\n",
        "               linewidth=1.5,\n",
        "               color=\"black\",\n",
        "               label=r\"Max $P_{success}$\")\n",
        "\n",
        "axs[0].legend(loc='best')\n",
        "\n",
        "axs[1].bar(iterations,\n",
        "           P_success_over_time / iterations,\n",
        "           width=0.5,\n",
        "           color=\"green\")\n",
        "axs[1].set(xlabel=f\"iteration\",\n",
        "           ylabel=f\"probability / iteration\")\n",
        "axs[1].axvline(x = iterations[np.argmax(P_success_over_time / iterations)],\n",
        "               linewidth=1.5,\n",
        "               color=\"black\",\n",
        "               label=r\"Max $\\frac{P_{success}}{\\mathrm{iteration}}$\")\n",
        "\n",
        "axs[1].legend(loc='best')\n",
        "\n",
        "plt.show()"
      ]
    },
    {
      "cell_type": "markdown",
      "metadata": {},
      "source": [
        "NOTE: if you are optimizing for expected amounts of overall resources, then running $k = 6 (< 8 = K)$ iterations yields better results!"
      ]
    },
    {
      "cell_type": "code",
      "execution_count": null,
      "metadata": {},
      "outputs": [],
      "source": []
    }
  ],
  "metadata": {
    "colab": {
      "provenance": []
    },
    "kernelspec": {
      "display_name": "Python 3",
      "language": "python",
      "name": "python3"
    },
    "language_info": {
      "codemirror_mode": {
        "name": "ipython",
        "version": 3
      },
      "file_extension": ".py",
      "mimetype": "text/x-python",
      "name": "python",
      "nbconvert_exporter": "python",
      "pygments_lexer": "ipython3",
      "version": "3.11.9"
    }
  },
  "nbformat": 4,
  "nbformat_minor": 0
}
