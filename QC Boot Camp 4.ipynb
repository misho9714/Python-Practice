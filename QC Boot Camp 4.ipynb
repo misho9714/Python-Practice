{
  "cells": [
    {
      "cell_type": "code",
      "execution_count": null,
      "metadata": {
        "colab": {
          "base_uri": "https://localhost:8080/"
        },
        "id": "kDthYM-OI5Hq",
        "outputId": "f2c719eb-a6ac-4e6b-ab68-39521c60398b"
      },
      "outputs": [],
      "source": [
        "# %pip install qiskit pylatexenc"
      ]
    },
    {
      "cell_type": "code",
      "execution_count": null,
      "metadata": {
        "id": "LR__r80VCRAx"
      },
      "outputs": [],
      "source": [
        "from qiskit.circuit import QuantumCircuit, QuantumRegister, AncillaRegister\n",
        "from qiskit.quantum_info import Statevector, Operator\n",
        "\n",
        "import numpy as np"
      ]
    },
    {
      "cell_type": "markdown",
      "metadata": {
        "id": "DifAx0SfCKzP"
      },
      "source": [
        "Let $f : \\mathbb{F}_2^n \\rightarrow \\mathbb{F}_2^d$ be given as follows: $n = d = 3$ and\n",
        "\n",
        "$\\begin{array}{rlrlrlrl} f(0, 0, 0) &= \\begin{pmatrix} 0 \\\\ 0 \\\\ 0 \\end{pmatrix} & f(1, 0, 0) &= \\begin{pmatrix} 1 \\\\ 1 \\\\ 0 \\end{pmatrix} & f(0, 1, 0) &= \\begin{pmatrix} 1 \\\\ 0 \\\\ 0 \\end{pmatrix} & f(1, 1, 0) &= \\begin{pmatrix} 0 \\\\ 1 \\\\ 0 \\end{pmatrix} \\\\ f(0, 0, 1) &= \\begin{pmatrix} 0 \\\\ 0 \\\\ 0 \\end{pmatrix} & f(1, 0, 1) &= \\begin{pmatrix} 1 \\\\ 1 \\\\ 0 \\end{pmatrix} & f(0, 1, 1) &= \\begin{pmatrix} 1 \\\\ 1 \\\\ 0 \\end{pmatrix} & f(1, 1, 1) &= \\begin{pmatrix} 0 \\\\ 0 \\\\ 1 \\end{pmatrix} \\end{array}$.\n",
        "\n",
        "Create a QROM for $f$. Recall, $U_f | x \\rangle_n | 0 \\rangle_d = | x \\rangle_n | f(x) \\rangle_d$."
      ]
    },
    {
      "cell_type": "code",
      "execution_count": null,
      "metadata": {
        "colab": {
          "base_uri": "https://localhost:8080/",
          "height": 899
        },
        "id": "oJhDnnEDCKzP",
        "outputId": "a9933f6b-8d60-4eb5-e750-f11be6eab4e5"
      },
      "outputs": [],
      "source": [
        "n = d = 3\n",
        "\n",
        "quantum_keys = QuantumRegister(size=n, name=\"x\")\n",
        "quantum_values = AncillaRegister(size=d, name=\"y\")\n",
        "\n",
        "select_qrom = QuantumCircuit(quantum_keys, quantum_values, name=r\"$U_f$\")\n",
        "\n",
        "# f(1, 0, 0) = (1, 1, 0)\n",
        "select_qrom.x(quantum_keys[1])\n",
        "select_qrom.x(quantum_keys[2])\n",
        "select_qrom.mcx(quantum_keys, quantum_values[0])\n",
        "select_qrom.mcx(quantum_keys, quantum_values[1])\n",
        "select_qrom.x(quantum_keys[1])\n",
        "select_qrom.x(quantum_keys[2])\n",
        "\n",
        "select_qrom.barrier()\n",
        "\n",
        "### finish the rest\n",
        "\n",
        "# f(0, 1, 0) = (1, 0, 0)\n",
        "\n",
        "\n",
        "\n",
        "select_qrom.barrier()\n",
        "\n",
        "# f(1, 1, 0) = (0, 1, 0)\n",
        "\n",
        "\n",
        "\n",
        "select_qrom.barrier()\n",
        "\n",
        "# f(1, 0, 1) = (1, 1, 0)\n",
        "\n",
        "\n",
        "\n",
        "select_qrom.barrier()\n",
        "\n",
        "# f(0, 1, 1) = (1, 1, 0)\n",
        "\n",
        "\n",
        "\n",
        "select_qrom.barrier()\n",
        "\n",
        "# f(1, 1, 1) = (0, 0, 1)\n",
        "\n",
        "\n",
        "\n",
        "###\n",
        "\n",
        "select_qrom.draw(output=\"mpl\")"
      ]
    },
    {
      "cell_type": "markdown",
      "metadata": {},
      "source": [
        "## side note: any sort of structure/pattern in the data can usually be used to make the circuit more efficient:"
      ]
    },
    {
      "cell_type": "markdown",
      "metadata": {
        "id": "9rJD90sCCKzQ"
      },
      "source": [
        "Verify that\n",
        "\n",
        "$f (x_0, x_1, x_2) = \\begin{pmatrix} x_0 \\oplus x_1 \\\\ x_0 \\oplus \\left( x_1 x_2 \\right) \\\\ x_0 x_1 x_2 \\end{pmatrix}$.\n",
        "\n",
        "Can you use this to construct a more efficient QROM?"
      ]
    },
    {
      "cell_type": "code",
      "execution_count": null,
      "metadata": {
        "colab": {
          "base_uri": "https://localhost:8080/",
          "height": 449
        },
        "id": "ZjHcm1fsI9qq",
        "outputId": "e87d3a4a-ab2d-4c3f-f505-0bfd1edb0d2c"
      },
      "outputs": [],
      "source": [
        "n = d = 3\n",
        "\n",
        "quantum_keys = QuantumRegister(size=n, name=\"x\")\n",
        "quantum_values = AncillaRegister(size=d, name=\"y\")\n",
        "\n",
        "select_qrom = QuantumCircuit(quantum_keys, quantum_values, name=r\"$U_f$\")\n",
        "\n",
        "select_qrom.ccx(quantum_keys[1], quantum_keys[2], quantum_values[1])\n",
        "select_qrom.ccx(quantum_keys[0], quantum_values[1], quantum_values[2])\n",
        "select_qrom.cx(quantum_keys[0], quantum_values[0])\n",
        "select_qrom.cx(quantum_keys[1], quantum_values[0])\n",
        "select_qrom.cx(quantum_keys[0], quantum_values[1])\n",
        "\n",
        "select_qrom.draw(output=\"mpl\")"
      ]
    },
    {
      "cell_type": "markdown",
      "metadata": {
        "id": "WSnenDECCKzQ"
      },
      "source": [
        "### What is the action of this QROM?\n",
        "\n",
        "Answer:\n",
        "\\begin{equation}\n",
        "    U_f | x_0, x_1, x_2 \\rangle | y_0, y_1, y_2 \\rangle = | x_0 x_1 x_2 \\rangle | y_0 \\oplus x_0 \\oplus x_1, y_1 \\oplus \\left( x_1 x_2 \\right) \\oplus x_0, y_3 \\oplus y_1 \\oplus \\left( x_1 x_2 \\right) \\rangle \\neq | x \\rangle_3 | y \\oplus f(x) \\rangle_3.\n",
        "\\end{equation}"
      ]
    },
    {
      "cell_type": "markdown",
      "metadata": {
        "id": "VM90NnshCKzQ"
      },
      "source": [
        "### Let's now do the same function but with SWAPs.\n",
        "\n",
        "We need $n + d 2^n = 27$ qubits."
      ]
    },
    {
      "cell_type": "code",
      "execution_count": null,
      "metadata": {
        "colab": {
          "base_uri": "https://localhost:8080/",
          "height": 1000
        },
        "id": "xpjO8OIMCKzQ",
        "outputId": "54fd0f96-2b2d-4d57-d25c-c114c076adfd"
      },
      "outputs": [],
      "source": [
        "quantum_register = QuantumRegister(size=n, name=\"x\")\n",
        "ancilla_register = AncillaRegister(size=d * (2**n), name=\"memory\")\n",
        "\n",
        "swap_qram = QuantumCircuit(quantum_register, ancilla_register, name=\"SWAP QRAM\")\n",
        "\n",
        "# f(1, 0, 0) = (1, 1, 0)\n",
        "swap_qram.x(ancilla_register[1 * d + 0])\n",
        "swap_qram.x(ancilla_register[1 * d + 1])\n",
        "\n",
        "# f(0, 1, 0) = (1, 0, 0)\n",
        "swap_qram.x(ancilla_register[2 * d + 0])\n",
        "\n",
        "# f(1, 1, 0) = (0, 1, 0)\n",
        "swap_qram.x(ancilla_register[3 * d + 1])\n",
        "\n",
        "# f(1, 0, 1) = (1, 1, 0)\n",
        "swap_qram.x(ancilla_register[5 * d + 0])\n",
        "swap_qram.x(ancilla_register[5 * d + 2])\n",
        "\n",
        "# f(0, 1, 1) = (1, 1, 0)\n",
        "swap_qram.x(ancilla_register[6 * d + 0])\n",
        "swap_qram.x(ancilla_register[6 * d + 1])\n",
        "\n",
        "# f(1, 1, 1) = (0, 0, 1)\n",
        "swap_qram.x(ancilla_register[7 * d + 2])\n",
        "\n",
        "###\n",
        "\n",
        "for i in range(n - 1, - 1, - 1):\n",
        "    jump = d * (2**i)\n",
        "    swap_qram.barrier()\n",
        "    for j in range(jump):\n",
        "        swap_qram.cswap(quantum_register[i], ancilla_register[j], ancilla_register[j + jump])\n",
        "\n",
        "swap_qram.draw(output=\"mpl\")"
      ]
    },
    {
      "cell_type": "markdown",
      "metadata": {
        "id": "-T1xlzO7TC9N"
      },
      "source": [
        "# Select-SWAP, with $k = 1$:\n",
        "\n",
        "Now $f_1 : \\mathbb{F}_2^{3 - 1} \\rightarrow \\mathbb{F}_2^{3 \\cdot 2^1}$, with\n",
        "\\begin{equation}\n",
        "    f(x_0, x_1) = \\left( \\begin{pmatrix} x_0 \\oplus x_1 \\\\ x_0 \\\\ 0 \\end{pmatrix}_{(x_2 = 0)}, \\begin{pmatrix} x_0 \\oplus x_1 \\\\ x_0 \\oplus x_1 \\\\ x_0 x_1 \\end{pmatrix}_{(x_2 = 1)} \\right).\n",
        "\\end{equation}\n",
        "Equivalently,\n",
        "$\\begin{array}{rlrlrlrl} f(0, 0) &= (0, 0, 0, 0, 0, 0) & f(1, 0) &= (1, 1, 0, 1, 1, 0) & f(0, 1) &= (1, 0, 0, 1, 1, 0) & f(1, 1) &= (0, 1, 0, 0, 0, 1). \\end{array}$"
      ]
    },
    {
      "cell_type": "code",
      "execution_count": null,
      "metadata": {
        "colab": {
          "base_uri": "https://localhost:8080/",
          "height": 642
        },
        "id": "jhyUuMPyUSgx",
        "outputId": "8cb50a0b-81c2-476d-c75a-d19169c7633d"
      },
      "outputs": [],
      "source": [
        "quantum_keys = QuantumRegister(size=n, name=\"x\")\n",
        "quantum_values = AncillaRegister(size=d * 2, name=\"y\")\n",
        "\n",
        "select_swap_qrom = QuantumCircuit(quantum_keys, quantum_values, name=r\"$U_f$\")\n",
        "\n",
        "# f(1, 0) = (1, 1, 0, 1, 1, 0)\n",
        "select_swap_qrom.x(quantum_keys[1])\n",
        "select_swap_qrom.mcx(quantum_keys[:2], quantum_values[0])\n",
        "select_swap_qrom.mcx(quantum_keys[:2], quantum_values[1])\n",
        "select_swap_qrom.mcx(quantum_keys[:2], quantum_values[3])\n",
        "select_swap_qrom.mcx(quantum_keys[:2], quantum_values[4])\n",
        "select_swap_qrom.x(quantum_keys[1])\n",
        "\n",
        "select_swap_qrom.barrier()\n",
        "\n",
        "### finish the rest\n",
        "\n",
        "# f(0, 1) = (1, 0, 0, 1, 1, 0)\n",
        "\n",
        "\n",
        "\n",
        "select_swap_qrom.barrier()\n",
        "\n",
        "# f(1, 1) = (0, 1, 0, 0, 0, 1)\n",
        "\n",
        "\n",
        "\n",
        "###\n",
        "\n",
        "select_swap_qrom.barrier()\n",
        "\n",
        "jump = d\n",
        "for j in range(jump):\n",
        "    select_swap_qrom.cswap(quantum_keys[2], quantum_values[j], quantum_values[j + jump])\n",
        "\n",
        "select_swap_qrom.draw(output=\"mpl\")"
      ]
    },
    {
      "cell_type": "markdown",
      "metadata": {},
      "source": [
        "## construct the corresponding diagonal unitary\n",
        "\n",
        "QROM to compute values -> P(1) on value qubits -> QROM inverse to uncompute values"
      ]
    },
    {
      "cell_type": "code",
      "execution_count": null,
      "metadata": {},
      "outputs": [],
      "source": [
        "qrom = select_swap_qrom # can recplace this we any other QROM/QRAM circuit, for example, swap_qram or select_swap_qrom"
      ]
    },
    {
      "cell_type": "markdown",
      "metadata": {},
      "source": [
        "### this next step is not necessary here, but could be useful to know:\n",
        "\n",
        "circuits can be turned into gates with the '.to_gate()' method\n",
        "\n",
        "however, barriers cause an error! the following removes all barriers and returns the gate"
      ]
    },
    {
      "cell_type": "code",
      "execution_count": null,
      "metadata": {},
      "outputs": [],
      "source": [
        "from qiskit.transpiler.passes import RemoveBarriers\n",
        "from qiskit.transpiler import PassManager\n",
        "\n",
        "pm = PassManager(RemoveBarriers())\n",
        "qrom_gate = pm.run(qrom).to_gate()"
      ]
    },
    {
      "cell_type": "markdown",
      "metadata": {},
      "source": [
        "### we also need to invert, if the circuit is not involutive\n",
        "\n",
        "(note: annotation is not necessary here either, but can be a good practice in more complicated circuits. it keeps more \"metadata\" about the origin of the circuit)"
      ]
    },
    {
      "cell_type": "code",
      "execution_count": null,
      "metadata": {},
      "outputs": [],
      "source": [
        "qrom_gate_inverse = qrom_gate.inverse(annotated=True)"
      ]
    },
    {
      "cell_type": "markdown",
      "metadata": {},
      "source": [
        "### let's put the diagonal unitary together"
      ]
    },
    {
      "cell_type": "code",
      "execution_count": null,
      "metadata": {
        "id": "UQkapmWqCKzR"
      },
      "outputs": [],
      "source": [
        "main_register = QuantumRegister(size=n, name=\"x\")\n",
        "ancillas = AncillaRegister(size=qrom.num_ancillas, name=\"memory\")\n",
        "\n",
        "diagonal_unitary = QuantumCircuit(main_register, ancillas, name=\"D_f\")\n",
        "\n",
        "### your code comes here\n",
        "\n",
        "\n",
        "\n",
        "###\n",
        "\n",
        "diagonal_unitary.draw(output=\"mpl\")"
      ]
    },
    {
      "cell_type": "markdown",
      "metadata": {},
      "source": [
        "### verify"
      ]
    },
    {
      "cell_type": "code",
      "execution_count": null,
      "metadata": {},
      "outputs": [],
      "source": [
        "# numerical values corresponding the bitstrings\n",
        "f_values = np.array([0, 3, 1, 2, 0, 3, 3, 4])\n",
        "# phases defined by f\n",
        "phases = np.exp(2 * np.pi * 1j * f_values / (1 << d))\n",
        "phases"
      ]
    },
    {
      "cell_type": "markdown",
      "metadata": {},
      "source": [
        "## extract the operator of the circuit"
      ]
    },
    {
      "cell_type": "markdown",
      "metadata": {},
      "source": [
        "### we only care about states where the ancillas are all zero"
      ]
    },
    {
      "cell_type": "code",
      "execution_count": null,
      "metadata": {},
      "outputs": [],
      "source": [
        "D = Operator(diagonal_unitary).data[:1 << n, :1 << n] # only keep the first 2^n rows and columns\n",
        "diagonal = np.diag(D)"
      ]
    },
    {
      "cell_type": "markdown",
      "metadata": {},
      "source": [
        "### first, let's check if D is indeed diagonal"
      ]
    },
    {
      "cell_type": "code",
      "execution_count": null,
      "metadata": {},
      "outputs": [],
      "source": [
        "if np.array_equal(D, np.diag(diagonal)):\n",
        "    print(\"yay!\")\n",
        "else:\n",
        "    print(\"boo!\")"
      ]
    },
    {
      "cell_type": "markdown",
      "metadata": {},
      "source": [
        "### finally, check is the phases are correct"
      ]
    },
    {
      "cell_type": "code",
      "execution_count": null,
      "metadata": {},
      "outputs": [],
      "source": [
        "if np.array_equal(diagonal, phases):\n",
        "    print(\"yay!\")\n",
        "else:\n",
        "    print(\"boo!\")"
      ]
    },
    {
      "cell_type": "code",
      "execution_count": null,
      "metadata": {},
      "outputs": [],
      "source": []
    }
  ],
  "metadata": {
    "colab": {
      "provenance": []
    },
    "kernelspec": {
      "display_name": "akos",
      "language": "python",
      "name": "python3"
    },
    "language_info": {
      "codemirror_mode": {
        "name": "ipython",
        "version": 3
      },
      "file_extension": ".py",
      "mimetype": "text/x-python",
      "name": "python",
      "nbconvert_exporter": "python",
      "pygments_lexer": "ipython3",
      "version": "3.13.7"
    }
  },
  "nbformat": 4,
  "nbformat_minor": 0
}
